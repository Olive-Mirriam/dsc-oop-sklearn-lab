{
 "cells": [
  {
   "cell_type": "markdown",
   "metadata": {},
   "source": [
    "# OOP with Scikit-Learn - Lab"
   ]
  },
  {
   "cell_type": "markdown",
   "metadata": {},
   "source": [
    "## Introduction\n",
    "\n",
    "Now that you have learned some of the basics of object-oriented programming with scikit-learn, let's practice applying it!\n",
    "\n",
    "## Objectives:\n",
    "\n",
    "In this lesson you will practice:\n",
    "\n",
    "* Recall the distinction between mutable and immutable types\n",
    "* Define the four main inherited object types in scikit-learn\n",
    "* Instantiate scikit-learn transformers and models\n",
    "* Invoke scikit-learn methods\n",
    "* Access scikit-learn attributes"
   ]
  },
  {
   "cell_type": "markdown",
   "metadata": {},
   "source": [
    "## Mutable and Immutable Types\n",
    "\n",
    "For each example below, think to yourself whether it is a mutable or immutable type. Then expand the details tag to reveal the answer.\n",
    "\n",
    "<ol>\n",
    "    <li>\n",
    "        <details>\n",
    "            <summary style=\"cursor: pointer\">Python dictionary (click to reveal)</summary>\n",
    "            <p><strong>Mutable.</strong> For example, the `update` method can be used to modify values within a dictionary.</p>\n",
    "            <p></p>\n",
    "        </details>\n",
    "    </li>\n",
    "    <li>\n",
    "        <details>\n",
    "            <summary style=\"cursor: pointer\">Python tuple (click to reveal)</summary>\n",
    "            <p><strong>Immutable.</strong> If you want to create a modified version of a tuple, you need to use <code>=</code> to reassign it.</p>\n",
    "            <p></p>\n",
    "        </details>\n",
    "    </li>\n",
    "    <li>\n",
    "        <details>\n",
    "            <summary style=\"cursor: pointer\">pandas <code>DataFrame</code> (click to reveal)</summary>\n",
    "            <p><strong>Mutable.</strong> Using the <code>inplace=True</code> argument with various different methods allows you to modify a dataframe in place.</p>\n",
    "            <p></p>\n",
    "        </details>\n",
    "    </li>\n",
    "    <li>\n",
    "        <details>\n",
    "            <summary style=\"cursor: pointer\">scikit-learn <code>OneHotEncoder</code> (click to reveal)</summary>\n",
    "            <p><strong>Mutable.</strong> Calling the <code>fit</code> method causes the transformer to store information about the data that is passed in, modifying its internal attributes.</p>\n",
    "            <p></p>\n",
    "        </details>\n",
    "    </li>\n",
    "</ol>"
   ]
  },
  {
   "cell_type": "markdown",
   "metadata": {},
   "source": [
    "## The Data\n",
    "\n",
    "For this lab we'll use data from the built-in iris dataset:"
   ]
  },
  {
   "cell_type": "code",
   "execution_count": 1,
   "metadata": {},
   "outputs": [],
   "source": [
    "from sklearn.datasets import load_iris\n",
    "\n",
    "X, y = load_iris(return_X_y=True, as_frame=True)"
   ]
  },
  {
   "cell_type": "code",
   "execution_count": null,
   "metadata": {},
   "outputs": [],
   "source": [
    "X"
   ]
  },
  {
   "cell_type": "code",
   "execution_count": null,
   "metadata": {},
   "outputs": [],
   "source": [
    "y"
   ]
  },
  {
   "cell_type": "markdown",
   "metadata": {},
   "source": [
    "## Scikit-Learn Classes\n",
    "\n",
    "For the following exercises, follow the documentation link to understand the class you are working with, but **do not** worry about understanding the underlying algorithm. The goal is just to get used to creating and using these types of objects."
   ]
  },
  {
   "cell_type": "markdown",
   "metadata": {},
   "source": [
    "### Estimators\n",
    "\n",
    "For all estimators, the steps are:\n",
    "\n",
    "1. Import the class from the `sklearn` library\n",
    "2. Instantiate an object from the class\n",
    "3. Pass in the appropriate data to the `fit` method"
   ]
  },
  {
   "cell_type": "markdown",
   "metadata": {},
   "source": [
    "#### `MinMaxScaler` ([documentation here](https://scikit-learn.org/stable/modules/generated/sklearn.preprocessing.MinMaxScaler.html))\n",
    "\n",
    "Import this scaler, instantiate an object called `scaler` with default parameters, and `fit` the scaler on `X`."
   ]
  },
  {
   "cell_type": "code",
   "execution_count": 2,
   "metadata": {},
   "outputs": [
    {
     "data": {
      "text/plain": [
       "MinMaxScaler()"
      ]
     },
     "execution_count": 2,
     "metadata": {},
     "output_type": "execute_result"
    }
   ],
   "source": [
    "# Import\n",
    "from sklearn.preprocessing import MinMaxScaler\n",
    "# Instantiate\n",
    "scaler = MinMaxScaler()\n",
    "# Fit\n",
    "scaler.fit (X)"
   ]
  },
  {
   "cell_type": "markdown",
   "metadata": {},
   "source": [
    "#### `DecisionTreeClassifier` ([documentation here](https://scikit-learn.org/stable/modules/generated/sklearn.tree.DecisionTreeClassifier.html))\n",
    "\n",
    "Import the classifier, instantiate an object called `clf` (short for \"classifier\") with default parameters, and `fit` the classifier on `X` and `y`."
   ]
  },
  {
   "cell_type": "code",
   "execution_count": 3,
   "metadata": {},
   "outputs": [
    {
     "data": {
      "text/plain": [
       "DecisionTreeClassifier()"
      ]
     },
     "execution_count": 3,
     "metadata": {},
     "output_type": "execute_result"
    }
   ],
   "source": [
    "# Import\n",
    "from sklearn.tree import DecisionTreeClassifier\n",
    "# Instantiate\n",
    "clf = DecisionTreeClassifier()\n",
    "# Fit\n",
    "clf.fit (X,y)"
   ]
  },
  {
   "cell_type": "markdown",
   "metadata": {},
   "source": [
    "### Transformers\n",
    "\n",
    "One of the two objects instantiated above (`scaler` or `clf`) is a transformer. Which one is it? Consult the documentation.\n",
    "\n",
    "---\n",
    "\n",
    "<details>\n",
    "    <summary style=\"cursor: pointer\">Hint (click to reveal)</summary>\n",
    "    <p>The class with a <code>transform</code> method is a transformer.</p>\n",
    "</details>\n",
    "\n",
    "---\n",
    "\n",
    "#### Using the transformer, print out two of the fitted attributes along with descriptions from the documentation.\n",
    "\n",
    "---\n",
    "\n",
    "<details>\n",
    "    <summary style=\"cursor: pointer\">Hint (click to reveal)</summary>\n",
    "    <p>Attributes ending with <code>_</code> are fitted attributes.</p>\n",
    "</details>"
   ]
  },
  {
   "cell_type": "code",
   "execution_count": 5,
   "metadata": {},
   "outputs": [
    {
     "name": "stdout",
     "output_type": "stream",
     "text": [
      "Data min per feature (min_): [-1.19444444 -0.83333333 -0.16949153 -0.04166667]\n",
      "Data data_min_(data_min_): [4.3 2.  1.  0.1]\n"
     ]
    }
   ],
   "source": [
    "# Your code here\n",
    "#The scaler\n",
    "print (\"Data min per feature (min_):\", scaler.min_)\n",
    "print (\"Data data_min_(data_min_):\", scaler.data_min_)"
   ]
  },
  {
   "cell_type": "markdown",
   "metadata": {},
   "source": [
    "#### Now, call the `transform` method on the transformer and pass in `X`. Assign the result to `X_scaled`"
   ]
  },
  {
   "cell_type": "code",
   "execution_count": 6,
   "metadata": {},
   "outputs": [],
   "source": [
    "# Your code here\n",
    "X_scaled = scaler.transform(X)"
   ]
  },
  {
   "cell_type": "markdown",
   "metadata": {},
   "source": [
    "### Predictors and Models\n",
    "\n",
    "The other of the two scikit-learn objects instantiated above (`scaler` or `clf`) is a predictor and a model. Which one is it? Consult the documentation.\n",
    "\n",
    "---\n",
    "\n",
    "<details>\n",
    "    <summary style=\"cursor: pointer\">Hint (click to reveal)</summary>\n",
    "    <p>The class with a <code>predict</code> method and a <code>score</code> method is a predictor and a model.</p>\n",
    "</details>\n",
    "\n",
    "---\n",
    "\n",
    "#### Using the predictor, print out two of the fitted attributes along with descriptions from the documentation."
   ]
  },
  {
   "cell_type": "code",
   "execution_count": 7,
   "metadata": {},
   "outputs": [
    {
     "name": "stdout",
     "output_type": "stream",
     "text": [
      "Feature importances: [0.01333333 0.01333333 0.55072262 0.42261071]\n",
      "Number of features: 4\n"
     ]
    }
   ],
   "source": [
    "# Your code here\n",
    "#the clf\n",
    "print (\"Feature importances:\", clf.feature_importances_)\n",
    "print (\"Number of features:\", clf.n_features_in_)"
   ]
  },
  {
   "cell_type": "markdown",
   "metadata": {},
   "source": [
    "#### Now, call the `predict` method on the predictor, passing in `X`. Assign the result to `y_pred`"
   ]
  },
  {
   "cell_type": "code",
   "execution_count": 8,
   "metadata": {},
   "outputs": [],
   "source": [
    "# Your code here\n",
    "y_pred = clf.predict(X)"
   ]
  },
  {
   "cell_type": "markdown",
   "metadata": {},
   "source": [
    "#### Now, call the `score` method on the predictor, passing in `X` and `y`"
   ]
  },
  {
   "cell_type": "code",
   "execution_count": 9,
   "metadata": {},
   "outputs": [
    {
     "data": {
      "text/plain": [
       "1.0"
      ]
     },
     "execution_count": 9,
     "metadata": {},
     "output_type": "execute_result"
    }
   ],
   "source": [
    "# Your code here\n",
    "clf.score(X,y)"
   ]
  },
  {
   "cell_type": "markdown",
   "metadata": {},
   "source": [
    "#### What does that score represent? Write your answer below"
   ]
  },
  {
   "cell_type": "code",
   "execution_count": null,
   "metadata": {},
   "outputs": [],
   "source": [
    "\"\"\"\n",
    "The mean accuracy of the model on the given dataset\n",
    "\"\"\""
   ]
  },
  {
   "cell_type": "markdown",
   "metadata": {},
   "source": [
    "## Summary\n",
    "\n",
    "In this lab, you practiced identifying mutable and immutable types as well as identifying transformers, predictors, and models using scikit-learn. You also instantiated scikit-learn objects, invoked the most common scikit-learn methods, and accessed some scikit-learn attributes."
   ]
  }
 ],
 "metadata": {
  "kernelspec": {
   "display_name": "learn-env",
   "language": "python",
   "name": "python3"
  },
  "language_info": {
   "codemirror_mode": {
    "name": "ipython",
    "version": 3
   },
   "file_extension": ".py",
   "mimetype": "text/x-python",
   "name": "python",
   "nbconvert_exporter": "python",
   "pygments_lexer": "ipython3",
   "version": "3.8.5"
  }
 },
 "nbformat": 4,
 "nbformat_minor": 4
}
